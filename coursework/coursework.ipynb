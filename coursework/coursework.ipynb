{
 "cells": [
  {
   "cell_type": "markdown",
   "metadata": {},
   "source": [
    "# Расчет вертикального прогиба балки"
   ]
  },
  {
   "cell_type": "markdown",
   "metadata": {},
   "source": [
    "Дифференциальное уравнение для вертикального прогиба имеет вид:\n",
    "\n",
    "\\begin{equation}\n",
    "\\frac{d^4y}{dx^4} = - \\frac{2}{I} \\frac{dI}{dx}\\cdot \\frac{d^3y}{dx^3} - \\frac{1}{I} \\frac{d^2I}{dx^2}\\cdot \\frac{d^2y}{dx^2} + \\frac{\\omega}{EI},\n",
    "\\end{equation}\n",
    "\n",
    "где $x$ - горизонтальное расстояние вдоль балки, $y$ - вертикальный прогиб, $l$ - длина балки, $M$ - изгибающий момент, $E$ - модуль Юнга, $I$ - момент инерции, $P$ - нагрузка на балку."
   ]
  },
  {
   "cell_type": "markdown",
   "metadata": {},
   "source": [
    "Рассмотрим последнее слагаемое:\n",
    "\n",
    "$\\omega = -\\frac{d^2M}{dx^2}$<br/>\n",
    "$M(x) = -P \\cdot (l - x)$\n",
    "\n",
    "Так как $\\frac{d^2M}{dx^2} = 0$ при $\\forall x$, то и $\\frac{\\omega}{EI} = 0$ при $\\forall x$."
   ]
  },
  {
   "cell_type": "markdown",
   "metadata": {},
   "source": [
    "Рассмотрим функцию $I(x)$ и ее производные:\n",
    "\\begin{equation}\n",
    "I = 5(1 + 4e^{-\\frac{6x}{l}})\n",
    "\\end{equation}\n",
    "\n",
    "\\begin{equation}\n",
    "\\frac{dI}{dx} = -\\frac{120}{l}e^{-\\frac{6x}{l}}\n",
    "\\end{equation}\n",
    "\n",
    "\\begin{equation}\n",
    "\\frac{d^2I}{dx^2} = \\frac{720}{l}e^{-\\frac{6x}{l}}\n",
    "\\end{equation}"
   ]
  },
  {
   "cell_type": "markdown",
   "metadata": {},
   "source": [
    "Подставив все значения в исходное уравнение получим:\n",
    "\n",
    "\\begin{equation}\n",
    "\\frac{d^4y}{dx^4} = \\frac{2}{5(1 + 4e^{-\\frac{6x}{l}})} \\cdot \\frac{120}{l}e^{-\\frac{6x}{l}} \\cdot \\frac{d^3y}{dx^3} - \n",
    "\\frac{1}{5(1 + 4e^{-\\frac{6x}{l}})} \\cdot \\frac{720}{l}e^{-\\frac{6x}{l}} \\cdot \\frac{d^2y}{dx^2}\n",
    "\\end{equation}"
   ]
  },
  {
   "cell_type": "markdown",
   "metadata": {},
   "source": [
    "Предварительно найдем значение длины балки: $l = 50\\cdot x^*$, где $x^*$ - корень уравнения на промежутке $[1, 4]$:\n",
    "\\begin{equation}\n",
    "\\int_0^{20} \\frac{e^{-0.9z}}{z+x}dz = 0.1957981\\cdot x\n",
    "\\end{equation}"
   ]
  },
  {
   "cell_type": "code",
   "execution_count": 1,
   "metadata": {
    "collapsed": true
   },
   "outputs": [],
   "source": [
    "import math\n",
    "import numpy as np\n",
    "import matplotlib.pyplot as plt\n",
    "from scipy import integrate\n",
    "from scipy import interpolate\n",
    "from scipy.optimize import fsolve"
   ]
  },
  {
   "cell_type": "code",
   "execution_count": 2,
   "metadata": {},
   "outputs": [],
   "source": [
    "def fun(x: int):\n",
    "    def inner(z: int):\n",
    "        return math.exp(-0.9 * z)/(z + x)\n",
    "    return integrate.quad(inner, 0, 20)[0] - 0.1957981 * x;"
   ]
  },
  {
   "cell_type": "code",
   "execution_count": 3,
   "metadata": {},
   "outputs": [
    {
     "name": "stdout",
     "output_type": "stream",
     "text": [
      "x* = 1.9996955172047453\n",
      "Длина балки l = 99.98477586023726\n"
     ]
    }
   ],
   "source": [
    "x_star, = fsolve(fun, (4 - 1) / 2)\n",
    "print('x* = {0}'.format(x_star))\n",
    "\n",
    "l = 50 * x_star\n",
    "print('Длина балки l = {0}'.format(l))"
   ]
  },
  {
   "cell_type": "markdown",
   "metadata": {},
   "source": [
    "Начальные условия:\n",
    "\n",
    "$y(0) = y'(0) = 0$,<br/>\n",
    "$y''(0) = \\frac{Pl}{75}\\cdot 10^{-7}$,<br/>\n",
    "$y'''(0) = \\frac{P \\cdot 3.8}{75}\\cdot 10^{-7}$"
   ]
  },
  {
   "cell_type": "code",
   "execution_count": 4,
   "metadata": {
    "collapsed": true
   },
   "outputs": [],
   "source": [
    "def get_y0(p: int):\n",
    "    y0_1 = 0\n",
    "    y0_2 = 0\n",
    "    y0_3 = p * l / 75 * 10 ** (-7)\n",
    "    y0_4 = p * 3.8 / 75 * 10 ** (-7)\n",
    "    return np.array([y0_1, y0_2, y0_3, y0_4])"
   ]
  },
  {
   "cell_type": "markdown",
   "metadata": {},
   "source": [
    "Значения нагрузки на балку будет менять в диапазоне $500 \\div 1000$ с шагом $100$. При этом значение $P_0 = 750$"
   ]
  },
  {
   "cell_type": "code",
   "execution_count": 5,
   "metadata": {
    "collapsed": true
   },
   "outputs": [],
   "source": [
    "def get_p():\n",
    "    return np.arange(500, 1000 + 1, 100)\n",
    "p0 = 750"
   ]
  },
  {
   "cell_type": "markdown",
   "metadata": {},
   "source": [
    "Перейдем к решению дифференциального уравнения. Для этого произведем следующшие замены:\n",
    "\n",
    "$x_1(t) = y(t)$,<br/>\n",
    "$x_2(t) = y'(t)$,<br/>\n",
    "$x_3(t) = y''(t)$,<br/>\n",
    "$x_4(t) = y'''(t)$.<br/>\n",
    "\n",
    "С их помощью исходное дифференциальное уравнение сводится к системе дифференциальных уравнений первого порядка:\n",
    "\n",
    "\\begin{equation}\n",
    "\\begin{pmatrix}\n",
    "    x'_1(t) \\\\\n",
    "    x'_2(t) \\\\\n",
    "    x'_3(t) \\\\\n",
    "    x'_4(t) \\\\\n",
    "\\end{pmatrix} =\n",
    "\\begin{pmatrix}\n",
    "    0 & 1 & 0 & 0 \\\\\n",
    "    0 & 0 & 1 & 0 \\\\\n",
    "    0 & 0 & 0 & 1 \\\\\n",
    "    0 & 0 & - \\frac{1}{I} \\frac{d^2I}{dx^2} & - \\frac{2}{I} \\frac{dI}{dx} \\\\\n",
    "\\end{pmatrix}\n",
    "\\cdot\n",
    "\\begin{pmatrix}\n",
    "    x_1(t) \\\\\n",
    "    x_2(t) \\\\\n",
    "    x_3(t) \\\\\n",
    "    x_4(t) \\\\\n",
    "\\end{pmatrix}\n",
    "\\end{equation}"
   ]
  },
  {
   "cell_type": "code",
   "execution_count": 6,
   "metadata": {},
   "outputs": [],
   "source": [
    "def evaluate(y: np.array, t: float):\n",
    "    a = -1 / (5 * (1 + 4 * math.exp(-6 * t/l))) * (720 * math.exp(-6 * t/l)) / l\n",
    "    b = 2 / (5 * (1 + 4 * math.exp(-6 * t/l))) * (120 * math.exp(-6 * t/l)) / l\n",
    "    y4 = a * y[2] + b * y[3]\n",
    "    return np.array([y[1], y[2], y[3], y4])"
   ]
  },
  {
   "cell_type": "markdown",
   "metadata": {},
   "source": [
    "Будем решать дифференциальное уравнение в диапазоне $95 \\div 105$ с шагом $0.01$ для заданных значений $P$."
   ]
  },
  {
   "cell_type": "code",
   "execution_count": 7,
   "metadata": {},
   "outputs": [
    {
     "data": {
      "image/png": "[encoded data removed]",
      "text/plain": [
       "<matplotlib.figure.Figure at 0x1a2c32bf6d8>"
      ]
     },
     "metadata": {},
     "output_type": "display_data"
    }
   ],
   "source": [
    "t0 = 95\n",
    "tn = 105\n",
    "th = 0.01\n",
    "t = np.arange(t0, tn, th)\n",
    "values = []\n",
    "\n",
    "for p in get_p():\n",
    "    y0 = get_y0(p)\n",
    "    res = integrate.odeint(evaluate, y0, t)\n",
    "    y = np.transpose(res)[0]\n",
    "    values.append(y)\n",
    "\n",
    "    plt.plot(t, y, label='p = {0}'.format(p))\n",
    "\n",
    "plt.legend(loc='upper left')\n",
    "plt.xlabel('t')\n",
    "plt.ylabel('y(t)')\n",
    "plt.title('y(t) for different P')\n",
    "plt.show()"
   ]
  },
  {
   "cell_type": "code",
   "execution_count": 8,
   "metadata": {},
   "outputs": [
    {
     "name": "stdout",
     "output_type": "stream",
     "text": [
      "P = 500, f(l) = 0.0008725763971333783\n",
      "P = 600, f(l) = 0.0010470949652251179\n",
      "P = 700, f(l) = 0.0012216129741276355\n",
      "P = 800, f(l) = 0.0013961314783032636\n",
      "P = 900, f(l) = 0.0015706504939714463\n",
      "P = 1000, f(l) = 0.0017451698409788581\n"
     ]
    }
   ],
   "source": [
    "p_interps = np.array([])\n",
    "l_values = []\n",
    "\n",
    "for i in range(len(values)):\n",
    "    p_interp = interpolate.interp1d(t, values[i])\n",
    "    p_interps = np.append(p_interps, p_interp)\n",
    "    \n",
    "    l_value = p_interp(l)\n",
    "    l_values.append(l_value)\n",
    "    \n",
    "    print('P = {p}, f(l) = {value}'.format(p=get_p()[i], value=l_value))"
   ]
  },
  {
   "cell_type": "code",
   "execution_count": 9,
   "metadata": {},
   "outputs": [
    {
     "name": "stdout",
     "output_type": "stream",
     "text": [
      "P = 750, f(l) = 0.0013088721478598997\n"
     ]
    }
   ],
   "source": [
    "l_interp = interpolate.interp1d(get_p(), l_values, kind='cubic')\n",
    "l_p0 = l_interp(p0)\n",
    "print('P = {p}, f(l) = {value}'.format(p=p0, value=l_p0))"
   ]
  }
 ],
 "metadata": {
  "kernelspec": {
   "display_name": "Python 3",
   "language": "python",
   "name": "python3"
  },
  "language_info": {
   "codemirror_mode": {
    "name": "ipython",
    "version": 3
   },
   "file_extension": ".py",
   "mimetype": "text/x-python",
   "name": "python",
   "nbconvert_exporter": "python",
   "pygments_lexer": "ipython3",
   "version": "3.5.2"
  }
 },
 "nbformat": 4,
 "nbformat_minor": 1
}
