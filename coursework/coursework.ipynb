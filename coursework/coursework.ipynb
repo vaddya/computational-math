{
 "cells": [
  {
   "cell_type": "markdown",
   "metadata": {},
   "source": [
    "Дифференциальное уравнение для вертикального прогиба имеет вид:\n",
    "\n",
    "\\begin{equation}\n",
    "\\frac{d^4y}{dx^4} = - \\frac{2}{I} \\frac{dI}{dx}\\cdot \\frac{d^3y}{dx^3} - \\frac{1}{I} \\frac{d^2I}{dx^2}\\cdot \\frac{d^2y}{dx^2} + \\frac{\\omega}{EI},\n",
    "\\end{equation}\n",
    "\n",
    "где $I(x)$ равняется:\n",
    "\\begin{equation}\n",
    "I = 5(1 + 4e^{-\\frac{6x}{l}})\n",
    "\\end{equation}\n",
    "\n",
    "\\begin{equation}\n",
    "\\frac{dI}{dx} = -\\frac{120}{l}e^{-\\frac{6x}{l}}\n",
    "\\end{equation}\n",
    "\n",
    "\\begin{equation}\n",
    "\\frac{d^2I}{dx^2} = \\frac{720}{l}e^{-\\frac{6x}{l}}\n",
    "\\end{equation}"
   ]
  },
  {
   "cell_type": "markdown",
   "metadata": {},
   "source": [
    "Учтем, что $\\frac{\\omega}{EI} = 0$. \n",
    "\n",
    "Тогда исходное уравнение можно записать в следующем виде:\n",
    "\n",
    "\\begin{equation}\n",
    "\\frac{d^4y}{dx^4} = \\frac{2}{5(1 + 4e^{-\\frac{6x}{l}})} \\cdot \\frac{120}{l}e^{-\\frac{6x}{l}} \\cdot \\frac{d^3y}{dx^3} - \n",
    "\\frac{1}{5(1 + 4e^{-\\frac{6x}{l}})} \\cdot \\frac{720}{l}e^{-\\frac{6x}{l}} \\cdot \\frac{d^2y}{dx^2}\n",
    "\\end{equation}"
   ]
  },
  {
   "cell_type": "markdown",
   "metadata": {},
   "source": [
    "Найдем значение длины балки: $l = 50\\cdot x^*$, где $x^*$ - корень уравнения на промежутке $[1, 4]$:\n",
    "\\begin{equation}\n",
    "\\int_0^{20} \\frac{e^{-0.9z}}{z+x}dz = 0.1957981\\cdot x\n",
    "\\end{equation}"
   ]
  },
  {
   "cell_type": "code",
   "execution_count": 1,
   "metadata": {
    "collapsed": true
   },
   "outputs": [],
   "source": [
    "import math\n",
    "import numpy as np\n",
    "from scipy import integrate\n",
    "from scipy.optimize import fsolve\n",
    "import matplotlib.pyplot as plt"
   ]
  },
  {
   "cell_type": "code",
   "execution_count": 6,
   "metadata": {},
   "outputs": [],
   "source": [
    "def fun(x: int):\n",
    "    def inner(z: int):\n",
    "        return math.exp(-0.9 * z)/(z + x)\n",
    "    return integrate.quad(inner, 0, 20)[0] - 0.1957981 * x;"
   ]
  },
  {
   "cell_type": "code",
   "execution_count": 8,
   "metadata": {},
   "outputs": [
    {
     "name": "stdout",
     "output_type": "stream",
     "text": [
      "Длина балки l = 99.98477586023728\n"
     ]
    }
   ],
   "source": [
    "x_star, = fsolve(fun, 2)\n",
    "\n",
    "l = 50 * x_star\n",
    "print('Длина балки l = {0}'.format(l))"
   ]
  },
  {
   "cell_type": "markdown",
   "metadata": {},
   "source": [
    "Начальные условия:\n",
    "\n",
    "$y(0) = y'(0) = 0$,<br/>\n",
    "$y''(0) = \\frac{Pl}{75}\\cdot 10^{-7}$,<br/>\n",
    "$y'''(0) = \\frac{P \\cdot 3.8}{75}\\cdot 10^{-7}$"
   ]
  },
  {
   "cell_type": "code",
   "execution_count": 3,
   "metadata": {
    "collapsed": true
   },
   "outputs": [],
   "source": [
    "def find_y0(p: int):\n",
    "    y0_1 = 0\n",
    "    y0_2 = 0\n",
    "    y0_3 = p * l / 75 * 10 ** (-7)\n",
    "    y0_4 = p * 3.8 / 75 * 10 ** (-7)\n",
    "    return [y0_1, y0_2, y0_3, y0_4]"
   ]
  },
  {
   "cell_type": "markdown",
   "metadata": {},
   "source": [
    "Произведем следующшие замены:\n",
    "\n",
    "$x_1(t) = y(t)$,<br/>\n",
    "$x_2(t) = y'(t)$,<br/>\n",
    "$x_3(t) = y''(t)$,<br/>\n",
    "$x_4(t) = y'''(t)$.<br/>\n",
    "\n",
    "С их помощью исходное дифференциальное уравнение сводится к системе дифференциальных уравнений первого порядка:\n",
    "\n",
    "\\begin{equation}\n",
    "\\begin{pmatrix}\n",
    "    x'_1(t) \\\\\n",
    "    x'_2(t) \\\\\n",
    "    x'_3(t) \\\\\n",
    "    x'_4(t) \\\\\n",
    "\\end{pmatrix} =\n",
    "\\begin{pmatrix}\n",
    "    0 & 1 & 0 & 0 \\\\\n",
    "    0 & 0 & 1 & 0 \\\\\n",
    "    0 & 0 & 0 & 1 \\\\\n",
    "    0 & 0 & - \\frac{1}{I} \\frac{d^2I}{dx^2} & - \\frac{2}{I} \\frac{dI}{dx} \\\\\n",
    "\\end{pmatrix}\n",
    "\\cdot\n",
    "\\begin{pmatrix}\n",
    "    x_1(t) \\\\\n",
    "    x_2(t) \\\\\n",
    "    x_3(t) \\\\\n",
    "    x_4(t) \\\\\n",
    "\\end{pmatrix}\n",
    "\\end{equation}"
   ]
  },
  {
   "cell_type": "code",
   "execution_count": 12,
   "metadata": {},
   "outputs": [],
   "source": [
    "def solvr(Y: np.array, t: float):\n",
    "    a = -1 / (5 * (1 + 4 * math.exp(-6 * t/l))) * (720 * math.exp(-6 * t/l)) / l\n",
    "    b = 2 / (5 * (1 + 4 * math.exp(-6 * t/l))) * (120 * math.exp(-6 * t/l)) / l\n",
    "    y4 = a * Y[2] + b * Y[3]\n",
    "    return [Y[1], Y[2], Y[3], y4]"
   ]
  },
  {
   "cell_type": "code",
   "execution_count": 13,
   "metadata": {},
   "outputs": [
    {
     "data": {
      "image/png": "[encoded data removed]",
      "text/plain": [
       "<matplotlib.figure.Figure at 0x1c1dee28cc0>"
      ]
     },
     "metadata": {},
     "output_type": "display_data"
    }
   ],
   "source": [
    "t = np.arange(l - 5, l + 5, 0.01)\n",
    "values = []\n",
    "\n",
    "for p in range(500, 1000 + 1, 100):\n",
    "    y0 = find_y0(p)\n",
    "    res = integrate.odeint(solvr, y0, t)\n",
    "    y = np.transpose(res)[0]\n",
    "    values.append(y)\n",
    "\n",
    "    plt.plot(t, y, label='p = {0}'.format(p))\n",
    "\n",
    "plt.legend(loc='upper left')\n",
    "plt.xlabel('t')\n",
    "plt.ylabel('y(t)')\n",
    "plt.title('y(t) for different p')\n",
    "plt.show()"
   ]
  },
  {
   "cell_type": "code",
   "execution_count": null,
   "metadata": {
    "collapsed": true
   },
   "outputs": [],
   "source": []
  }
 ],
 "metadata": {
  "kernelspec": {
   "display_name": "Python 3",
   "language": "python",
   "name": "python3"
  },
  "language_info": {
   "codemirror_mode": {
    "name": "ipython",
    "version": 3
   },
   "file_extension": ".py",
   "mimetype": "text/x-python",
   "name": "python",
   "nbconvert_exporter": "python",
   "pygments_lexer": "ipython3",
   "version": "3.5.2"
  }
 },
 "nbformat": 4,
 "nbformat_minor": 1
}
